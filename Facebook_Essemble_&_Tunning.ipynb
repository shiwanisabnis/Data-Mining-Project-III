{
  "nbformat": 4,
  "nbformat_minor": 0,
  "metadata": {
    "colab": {
      "name": "Facebook_Essemble_&_Tunning.ipynb",
      "provenance": [],
      "collapsed_sections": []
    },
    "kernelspec": {
      "name": "python3",
      "display_name": "Python 3"
    },
    "language_info": {
      "name": "python"
    }
  },
  "cells": [
    {
      "cell_type": "code",
      "execution_count": 105,
      "metadata": {
        "id": "y3exAIBtcUwS"
      },
      "outputs": [],
      "source": [
        "import pandas as pd\n",
        "import numpy as np\n",
        "import matplotlib.pyplot as plt\n",
        "%matplotlib inline\n",
        "import seaborn as sns\n",
        "import sklearn\n",
        "from sklearn import preprocessing\n",
        "from sklearn.preprocessing import StandardScaler\n",
        "from sklearn.model_selection import train_test_split\n",
        "from sklearn.linear_model import LogisticRegression\n",
        "from sklearn.metrics import accuracy_score\n",
        "from sklearn.tree import DecisionTreeClassifier\n",
        "from sklearn.model_selection import train_test_split \n",
        "from sklearn import metrics \n",
        "from sklearn import tree\n",
        "from sklearn.metrics import confusion_matrix\n",
        "from sklearn.metrics import classification_report\n",
        "from sklearn.metrics import plot_roc_curve\n",
        "from sklearn.model_selection import GridSearchCV\n",
        "from sklearn.neighbors import KNeighborsClassifier\n",
        "from sklearn.ensemble import RandomForestClassifier\n",
        "from sklearn.ensemble import VotingClassifier\n",
        "from sklearn.svm import SVC\n",
        "from sklearn.metrics import classification_report, confusion_matrix\n",
        "from sklearn.neural_network import MLPClassifier\n",
        "from sklearn.neural_network import MLPRegressor\n",
        "from sklearn.metrics import mean_squared_error\n",
        "from math import sqrt\n",
        "from sklearn.metrics import r2_score"
      ]
    },
    {
      "cell_type": "code",
      "source": [
        "df = pd.read_csv('/content/CW2_Facebook_metrics.csv')\n",
        "print(\"df =\",df.shape)\n",
        "df.head(500)"
      ],
      "metadata": {
        "colab": {
          "base_uri": "https://localhost:8080/",
          "height": 661
        },
        "id": "-jjyi0wjcvKE",
        "outputId": "afb351e2-ae4a-4b94-eca9-db552b8e60d2"
      },
      "execution_count": 106,
      "outputs": [
        {
          "output_type": "stream",
          "name": "stdout",
          "text": [
            "df = (500, 19)\n"
          ]
        },
        {
          "output_type": "execute_result",
          "data": {
            "text/plain": [
              "     Page total likes    Type  Category  Post Month  Post Weekday  Post Hour  \\\n",
              "0              139441   Photo         2          12             4          3   \n",
              "1              139441  Status         2          12             3         10   \n",
              "2              139441   Photo         3          12             3          3   \n",
              "3              139441   Photo         2          12             2         10   \n",
              "4              139441   Photo         2          12             2          3   \n",
              "..                ...     ...       ...         ...           ...        ...   \n",
              "495             85093   Photo         3           1             7          2   \n",
              "496             81370   Photo         2           1             5          8   \n",
              "497             81370   Photo         1           1             5          2   \n",
              "498             81370   Photo         3           1             4         11   \n",
              "499             81370   Photo         2           1             4          4   \n",
              "\n",
              "     Paid  Lifetime Post Total Reach  Lifetime Post Total Impressions  \\\n",
              "0     0.0                       2752                             5091   \n",
              "1     0.0                      10460                            19057   \n",
              "2     0.0                       2413                             4373   \n",
              "3     1.0                      50128                            87991   \n",
              "4     0.0                       7244                            13594   \n",
              "..    ...                        ...                              ...   \n",
              "495   0.0                       4684                             7536   \n",
              "496   0.0                       3480                             6229   \n",
              "497   0.0                       3778                             7216   \n",
              "498   0.0                       4156                             7564   \n",
              "499   NaN                       4188                             7292   \n",
              "\n",
              "     Lifetime Engaged Users  Lifetime Post Consumers  \\\n",
              "0                       178                      109   \n",
              "1                      1457                     1361   \n",
              "2                       177                      113   \n",
              "3                      2211                      790   \n",
              "4                       671                      410   \n",
              "..                      ...                      ...   \n",
              "495                     733                      708   \n",
              "496                     537                      508   \n",
              "497                     625                      572   \n",
              "498                     626                      574   \n",
              "499                     564                      524   \n",
              "\n",
              "     Lifetime Post Consumptions  \\\n",
              "0                           159   \n",
              "1                          1674   \n",
              "2                           154   \n",
              "3                          1119   \n",
              "4                           580   \n",
              "..                          ...   \n",
              "495                         985   \n",
              "496                         687   \n",
              "497                         795   \n",
              "498                         832   \n",
              "499                         743   \n",
              "\n",
              "     Lifetime Post Impressions by people who have liked your Page  \\\n",
              "0                                                 3078              \n",
              "1                                                11710              \n",
              "2                                                 2812              \n",
              "3                                                61027              \n",
              "4                                                 6228              \n",
              "..                                                 ...              \n",
              "495                                               4750              \n",
              "496                                               3961              \n",
              "497                                               4742              \n",
              "498                                               4534              \n",
              "499                                               3861              \n",
              "\n",
              "     Lifetime Post reach by people who like your Page  \\\n",
              "0                                                1640   \n",
              "1                                                6112   \n",
              "2                                                1503   \n",
              "3                                               32048   \n",
              "4                                                3200   \n",
              "..                                                ...   \n",
              "495                                              2876   \n",
              "496                                              2104   \n",
              "497                                              2388   \n",
              "498                                              2452   \n",
              "499                                              2200   \n",
              "\n",
              "     Lifetime People who have liked your Page and engaged with your post  \\\n",
              "0                                                  119                     \n",
              "1                                                 1108                     \n",
              "2                                                  132                     \n",
              "3                                                 1386                     \n",
              "4                                                  396                     \n",
              "..                                                 ...                     \n",
              "495                                                392                     \n",
              "496                                                301                     \n",
              "497                                                363                     \n",
              "498                                                370                     \n",
              "499                                                316                     \n",
              "\n",
              "     Comments   Likes  Shares  Total Interactions  \n",
              "0           4    79.0    17.0                 100  \n",
              "1           5   130.0    29.0                 164  \n",
              "2           0    66.0    14.0                  80  \n",
              "3          58  1572.0   147.0                1777  \n",
              "4          19   325.0    49.0                 393  \n",
              "..        ...     ...     ...                 ...  \n",
              "495         5    53.0    26.0                  84  \n",
              "496         0    53.0    22.0                  75  \n",
              "497         4    93.0    18.0                 115  \n",
              "498         7    91.0    38.0                 136  \n",
              "499         0    91.0    28.0                 119  \n",
              "\n",
              "[500 rows x 19 columns]"
            ],
            "text/html": [
              "\n",
              "  <div id=\"df-be90070f-b19f-43c9-9a74-e3e615a8d2d5\">\n",
              "    <div class=\"colab-df-container\">\n",
              "      <div>\n",
              "<style scoped>\n",
              "    .dataframe tbody tr th:only-of-type {\n",
              "        vertical-align: middle;\n",
              "    }\n",
              "\n",
              "    .dataframe tbody tr th {\n",
              "        vertical-align: top;\n",
              "    }\n",
              "\n",
              "    .dataframe thead th {\n",
              "        text-align: right;\n",
              "    }\n",
              "</style>\n",
              "<table border=\"1\" class=\"dataframe\">\n",
              "  <thead>\n",
              "    <tr style=\"text-align: right;\">\n",
              "      <th></th>\n",
              "      <th>Page total likes</th>\n",
              "      <th>Type</th>\n",
              "      <th>Category</th>\n",
              "      <th>Post Month</th>\n",
              "      <th>Post Weekday</th>\n",
              "      <th>Post Hour</th>\n",
              "      <th>Paid</th>\n",
              "      <th>Lifetime Post Total Reach</th>\n",
              "      <th>Lifetime Post Total Impressions</th>\n",
              "      <th>Lifetime Engaged Users</th>\n",
              "      <th>Lifetime Post Consumers</th>\n",
              "      <th>Lifetime Post Consumptions</th>\n",
              "      <th>Lifetime Post Impressions by people who have liked your Page</th>\n",
              "      <th>Lifetime Post reach by people who like your Page</th>\n",
              "      <th>Lifetime People who have liked your Page and engaged with your post</th>\n",
              "      <th>Comments</th>\n",
              "      <th>Likes</th>\n",
              "      <th>Shares</th>\n",
              "      <th>Total Interactions</th>\n",
              "    </tr>\n",
              "  </thead>\n",
              "  <tbody>\n",
              "    <tr>\n",
              "      <th>0</th>\n",
              "      <td>139441</td>\n",
              "      <td>Photo</td>\n",
              "      <td>2</td>\n",
              "      <td>12</td>\n",
              "      <td>4</td>\n",
              "      <td>3</td>\n",
              "      <td>0.0</td>\n",
              "      <td>2752</td>\n",
              "      <td>5091</td>\n",
              "      <td>178</td>\n",
              "      <td>109</td>\n",
              "      <td>159</td>\n",
              "      <td>3078</td>\n",
              "      <td>1640</td>\n",
              "      <td>119</td>\n",
              "      <td>4</td>\n",
              "      <td>79.0</td>\n",
              "      <td>17.0</td>\n",
              "      <td>100</td>\n",
              "    </tr>\n",
              "    <tr>\n",
              "      <th>1</th>\n",
              "      <td>139441</td>\n",
              "      <td>Status</td>\n",
              "      <td>2</td>\n",
              "      <td>12</td>\n",
              "      <td>3</td>\n",
              "      <td>10</td>\n",
              "      <td>0.0</td>\n",
              "      <td>10460</td>\n",
              "      <td>19057</td>\n",
              "      <td>1457</td>\n",
              "      <td>1361</td>\n",
              "      <td>1674</td>\n",
              "      <td>11710</td>\n",
              "      <td>6112</td>\n",
              "      <td>1108</td>\n",
              "      <td>5</td>\n",
              "      <td>130.0</td>\n",
              "      <td>29.0</td>\n",
              "      <td>164</td>\n",
              "    </tr>\n",
              "    <tr>\n",
              "      <th>2</th>\n",
              "      <td>139441</td>\n",
              "      <td>Photo</td>\n",
              "      <td>3</td>\n",
              "      <td>12</td>\n",
              "      <td>3</td>\n",
              "      <td>3</td>\n",
              "      <td>0.0</td>\n",
              "      <td>2413</td>\n",
              "      <td>4373</td>\n",
              "      <td>177</td>\n",
              "      <td>113</td>\n",
              "      <td>154</td>\n",
              "      <td>2812</td>\n",
              "      <td>1503</td>\n",
              "      <td>132</td>\n",
              "      <td>0</td>\n",
              "      <td>66.0</td>\n",
              "      <td>14.0</td>\n",
              "      <td>80</td>\n",
              "    </tr>\n",
              "    <tr>\n",
              "      <th>3</th>\n",
              "      <td>139441</td>\n",
              "      <td>Photo</td>\n",
              "      <td>2</td>\n",
              "      <td>12</td>\n",
              "      <td>2</td>\n",
              "      <td>10</td>\n",
              "      <td>1.0</td>\n",
              "      <td>50128</td>\n",
              "      <td>87991</td>\n",
              "      <td>2211</td>\n",
              "      <td>790</td>\n",
              "      <td>1119</td>\n",
              "      <td>61027</td>\n",
              "      <td>32048</td>\n",
              "      <td>1386</td>\n",
              "      <td>58</td>\n",
              "      <td>1572.0</td>\n",
              "      <td>147.0</td>\n",
              "      <td>1777</td>\n",
              "    </tr>\n",
              "    <tr>\n",
              "      <th>4</th>\n",
              "      <td>139441</td>\n",
              "      <td>Photo</td>\n",
              "      <td>2</td>\n",
              "      <td>12</td>\n",
              "      <td>2</td>\n",
              "      <td>3</td>\n",
              "      <td>0.0</td>\n",
              "      <td>7244</td>\n",
              "      <td>13594</td>\n",
              "      <td>671</td>\n",
              "      <td>410</td>\n",
              "      <td>580</td>\n",
              "      <td>6228</td>\n",
              "      <td>3200</td>\n",
              "      <td>396</td>\n",
              "      <td>19</td>\n",
              "      <td>325.0</td>\n",
              "      <td>49.0</td>\n",
              "      <td>393</td>\n",
              "    </tr>\n",
              "    <tr>\n",
              "      <th>...</th>\n",
              "      <td>...</td>\n",
              "      <td>...</td>\n",
              "      <td>...</td>\n",
              "      <td>...</td>\n",
              "      <td>...</td>\n",
              "      <td>...</td>\n",
              "      <td>...</td>\n",
              "      <td>...</td>\n",
              "      <td>...</td>\n",
              "      <td>...</td>\n",
              "      <td>...</td>\n",
              "      <td>...</td>\n",
              "      <td>...</td>\n",
              "      <td>...</td>\n",
              "      <td>...</td>\n",
              "      <td>...</td>\n",
              "      <td>...</td>\n",
              "      <td>...</td>\n",
              "      <td>...</td>\n",
              "    </tr>\n",
              "    <tr>\n",
              "      <th>495</th>\n",
              "      <td>85093</td>\n",
              "      <td>Photo</td>\n",
              "      <td>3</td>\n",
              "      <td>1</td>\n",
              "      <td>7</td>\n",
              "      <td>2</td>\n",
              "      <td>0.0</td>\n",
              "      <td>4684</td>\n",
              "      <td>7536</td>\n",
              "      <td>733</td>\n",
              "      <td>708</td>\n",
              "      <td>985</td>\n",
              "      <td>4750</td>\n",
              "      <td>2876</td>\n",
              "      <td>392</td>\n",
              "      <td>5</td>\n",
              "      <td>53.0</td>\n",
              "      <td>26.0</td>\n",
              "      <td>84</td>\n",
              "    </tr>\n",
              "    <tr>\n",
              "      <th>496</th>\n",
              "      <td>81370</td>\n",
              "      <td>Photo</td>\n",
              "      <td>2</td>\n",
              "      <td>1</td>\n",
              "      <td>5</td>\n",
              "      <td>8</td>\n",
              "      <td>0.0</td>\n",
              "      <td>3480</td>\n",
              "      <td>6229</td>\n",
              "      <td>537</td>\n",
              "      <td>508</td>\n",
              "      <td>687</td>\n",
              "      <td>3961</td>\n",
              "      <td>2104</td>\n",
              "      <td>301</td>\n",
              "      <td>0</td>\n",
              "      <td>53.0</td>\n",
              "      <td>22.0</td>\n",
              "      <td>75</td>\n",
              "    </tr>\n",
              "    <tr>\n",
              "      <th>497</th>\n",
              "      <td>81370</td>\n",
              "      <td>Photo</td>\n",
              "      <td>1</td>\n",
              "      <td>1</td>\n",
              "      <td>5</td>\n",
              "      <td>2</td>\n",
              "      <td>0.0</td>\n",
              "      <td>3778</td>\n",
              "      <td>7216</td>\n",
              "      <td>625</td>\n",
              "      <td>572</td>\n",
              "      <td>795</td>\n",
              "      <td>4742</td>\n",
              "      <td>2388</td>\n",
              "      <td>363</td>\n",
              "      <td>4</td>\n",
              "      <td>93.0</td>\n",
              "      <td>18.0</td>\n",
              "      <td>115</td>\n",
              "    </tr>\n",
              "    <tr>\n",
              "      <th>498</th>\n",
              "      <td>81370</td>\n",
              "      <td>Photo</td>\n",
              "      <td>3</td>\n",
              "      <td>1</td>\n",
              "      <td>4</td>\n",
              "      <td>11</td>\n",
              "      <td>0.0</td>\n",
              "      <td>4156</td>\n",
              "      <td>7564</td>\n",
              "      <td>626</td>\n",
              "      <td>574</td>\n",
              "      <td>832</td>\n",
              "      <td>4534</td>\n",
              "      <td>2452</td>\n",
              "      <td>370</td>\n",
              "      <td>7</td>\n",
              "      <td>91.0</td>\n",
              "      <td>38.0</td>\n",
              "      <td>136</td>\n",
              "    </tr>\n",
              "    <tr>\n",
              "      <th>499</th>\n",
              "      <td>81370</td>\n",
              "      <td>Photo</td>\n",
              "      <td>2</td>\n",
              "      <td>1</td>\n",
              "      <td>4</td>\n",
              "      <td>4</td>\n",
              "      <td>NaN</td>\n",
              "      <td>4188</td>\n",
              "      <td>7292</td>\n",
              "      <td>564</td>\n",
              "      <td>524</td>\n",
              "      <td>743</td>\n",
              "      <td>3861</td>\n",
              "      <td>2200</td>\n",
              "      <td>316</td>\n",
              "      <td>0</td>\n",
              "      <td>91.0</td>\n",
              "      <td>28.0</td>\n",
              "      <td>119</td>\n",
              "    </tr>\n",
              "  </tbody>\n",
              "</table>\n",
              "<p>500 rows × 19 columns</p>\n",
              "</div>\n",
              "      <button class=\"colab-df-convert\" onclick=\"convertToInteractive('df-be90070f-b19f-43c9-9a74-e3e615a8d2d5')\"\n",
              "              title=\"Convert this dataframe to an interactive table.\"\n",
              "              style=\"display:none;\">\n",
              "        \n",
              "  <svg xmlns=\"http://www.w3.org/2000/svg\" height=\"24px\"viewBox=\"0 0 24 24\"\n",
              "       width=\"24px\">\n",
              "    <path d=\"M0 0h24v24H0V0z\" fill=\"none\"/>\n",
              "    <path d=\"M18.56 5.44l.94 2.06.94-2.06 2.06-.94-2.06-.94-.94-2.06-.94 2.06-2.06.94zm-11 1L8.5 8.5l.94-2.06 2.06-.94-2.06-.94L8.5 2.5l-.94 2.06-2.06.94zm10 10l.94 2.06.94-2.06 2.06-.94-2.06-.94-.94-2.06-.94 2.06-2.06.94z\"/><path d=\"M17.41 7.96l-1.37-1.37c-.4-.4-.92-.59-1.43-.59-.52 0-1.04.2-1.43.59L10.3 9.45l-7.72 7.72c-.78.78-.78 2.05 0 2.83L4 21.41c.39.39.9.59 1.41.59.51 0 1.02-.2 1.41-.59l7.78-7.78 2.81-2.81c.8-.78.8-2.07 0-2.86zM5.41 20L4 18.59l7.72-7.72 1.47 1.35L5.41 20z\"/>\n",
              "  </svg>\n",
              "      </button>\n",
              "      \n",
              "  <style>\n",
              "    .colab-df-container {\n",
              "      display:flex;\n",
              "      flex-wrap:wrap;\n",
              "      gap: 12px;\n",
              "    }\n",
              "\n",
              "    .colab-df-convert {\n",
              "      background-color: #E8F0FE;\n",
              "      border: none;\n",
              "      border-radius: 50%;\n",
              "      cursor: pointer;\n",
              "      display: none;\n",
              "      fill: #1967D2;\n",
              "      height: 32px;\n",
              "      padding: 0 0 0 0;\n",
              "      width: 32px;\n",
              "    }\n",
              "\n",
              "    .colab-df-convert:hover {\n",
              "      background-color: #E2EBFA;\n",
              "      box-shadow: 0px 1px 2px rgba(60, 64, 67, 0.3), 0px 1px 3px 1px rgba(60, 64, 67, 0.15);\n",
              "      fill: #174EA6;\n",
              "    }\n",
              "\n",
              "    [theme=dark] .colab-df-convert {\n",
              "      background-color: #3B4455;\n",
              "      fill: #D2E3FC;\n",
              "    }\n",
              "\n",
              "    [theme=dark] .colab-df-convert:hover {\n",
              "      background-color: #434B5C;\n",
              "      box-shadow: 0px 1px 3px 1px rgba(0, 0, 0, 0.15);\n",
              "      filter: drop-shadow(0px 1px 2px rgba(0, 0, 0, 0.3));\n",
              "      fill: #FFFFFF;\n",
              "    }\n",
              "  </style>\n",
              "\n",
              "      <script>\n",
              "        const buttonEl =\n",
              "          document.querySelector('#df-be90070f-b19f-43c9-9a74-e3e615a8d2d5 button.colab-df-convert');\n",
              "        buttonEl.style.display =\n",
              "          google.colab.kernel.accessAllowed ? 'block' : 'none';\n",
              "\n",
              "        async function convertToInteractive(key) {\n",
              "          const element = document.querySelector('#df-be90070f-b19f-43c9-9a74-e3e615a8d2d5');\n",
              "          const dataTable =\n",
              "            await google.colab.kernel.invokeFunction('convertToInteractive',\n",
              "                                                     [key], {});\n",
              "          if (!dataTable) return;\n",
              "\n",
              "          const docLinkHtml = 'Like what you see? Visit the ' +\n",
              "            '<a target=\"_blank\" href=https://colab.research.google.com/notebooks/data_table.ipynb>data table notebook</a>'\n",
              "            + ' to learn more about interactive tables.';\n",
              "          element.innerHTML = '';\n",
              "          dataTable['output_type'] = 'display_data';\n",
              "          await google.colab.output.renderOutput(dataTable, element);\n",
              "          const docLink = document.createElement('div');\n",
              "          docLink.innerHTML = docLinkHtml;\n",
              "          element.appendChild(docLink);\n",
              "        }\n",
              "      </script>\n",
              "    </div>\n",
              "  </div>\n",
              "  "
            ]
          },
          "metadata": {},
          "execution_count": 106
        }
      ]
    },
    {
      "cell_type": "code",
      "source": [
        "#finding out NANs in the table in order to treat them for better results\n",
        "df.isna().sum()"
      ],
      "metadata": {
        "colab": {
          "base_uri": "https://localhost:8080/"
        },
        "id": "zNj5UiGCeXFS",
        "outputId": "0e7115d5-e2e4-4a76-e0d2-be0cdaeb060a"
      },
      "execution_count": 107,
      "outputs": [
        {
          "output_type": "execute_result",
          "data": {
            "text/plain": [
              "Page total likes                                                       0\n",
              "Type                                                                   0\n",
              "Category                                                               0\n",
              "Post Month                                                             0\n",
              "Post Weekday                                                           0\n",
              "Post Hour                                                              0\n",
              "Paid                                                                   1\n",
              "Lifetime Post Total Reach                                              0\n",
              "Lifetime Post Total Impressions                                        0\n",
              "Lifetime Engaged Users                                                 0\n",
              "Lifetime Post Consumers                                                0\n",
              "Lifetime Post Consumptions                                             0\n",
              "Lifetime Post Impressions by people who have liked your Page           0\n",
              "Lifetime Post reach by people who like your Page                       0\n",
              "Lifetime People who have liked your Page and engaged with your post    0\n",
              "Comments                                                               0\n",
              "Likes                                                                  1\n",
              "Shares                                                                 4\n",
              "Total Interactions                                                     0\n",
              "dtype: int64"
            ]
          },
          "metadata": {},
          "execution_count": 107
        }
      ]
    },
    {
      "cell_type": "code",
      "source": [
        "#Alternate to droping row/coloumn. We deleted specific cells with NANs. Names identifies using step 4\n",
        "df.dropna(subset=['Paid', 'Likes', 'Shares'],axis=0,inplace=True)"
      ],
      "metadata": {
        "id": "6qFfcqxkebZw"
      },
      "execution_count": 108,
      "outputs": []
    },
    {
      "cell_type": "code",
      "source": [
        "#Verifying the status after deleting NANs\n",
        "df.isna().sum()"
      ],
      "metadata": {
        "colab": {
          "base_uri": "https://localhost:8080/"
        },
        "id": "emA8Paz5eqwN",
        "outputId": "59757905-bb81-4f0a-8f8f-df22ff81fe79"
      },
      "execution_count": 109,
      "outputs": [
        {
          "output_type": "execute_result",
          "data": {
            "text/plain": [
              "Page total likes                                                       0\n",
              "Type                                                                   0\n",
              "Category                                                               0\n",
              "Post Month                                                             0\n",
              "Post Weekday                                                           0\n",
              "Post Hour                                                              0\n",
              "Paid                                                                   0\n",
              "Lifetime Post Total Reach                                              0\n",
              "Lifetime Post Total Impressions                                        0\n",
              "Lifetime Engaged Users                                                 0\n",
              "Lifetime Post Consumers                                                0\n",
              "Lifetime Post Consumptions                                             0\n",
              "Lifetime Post Impressions by people who have liked your Page           0\n",
              "Lifetime Post reach by people who like your Page                       0\n",
              "Lifetime People who have liked your Page and engaged with your post    0\n",
              "Comments                                                               0\n",
              "Likes                                                                  0\n",
              "Shares                                                                 0\n",
              "Total Interactions                                                     0\n",
              "dtype: int64"
            ]
          },
          "metadata": {},
          "execution_count": 109
        }
      ]
    },
    {
      "cell_type": "code",
      "source": [
        "df['Paid'] = df['Paid'].astype('int64')\n",
        "df['Likes'] = df['Likes'].astype('int64')\n",
        "df['Shares'] = df['Shares'].astype('int64')"
      ],
      "metadata": {
        "id": "gTG6i_HqeuaS"
      },
      "execution_count": 110,
      "outputs": []
    },
    {
      "cell_type": "code",
      "source": [
        "df.dtypes"
      ],
      "metadata": {
        "colab": {
          "base_uri": "https://localhost:8080/"
        },
        "id": "Nvjjp79VfU3I",
        "outputId": "6dfd9a2b-112f-4f0f-f137-200f9fb6fe71"
      },
      "execution_count": 111,
      "outputs": [
        {
          "output_type": "execute_result",
          "data": {
            "text/plain": [
              "Page total likes                                                        int64\n",
              "Type                                                                   object\n",
              "Category                                                                int64\n",
              "Post Month                                                              int64\n",
              "Post Weekday                                                            int64\n",
              "Post Hour                                                               int64\n",
              "Paid                                                                    int64\n",
              "Lifetime Post Total Reach                                               int64\n",
              "Lifetime Post Total Impressions                                         int64\n",
              "Lifetime Engaged Users                                                  int64\n",
              "Lifetime Post Consumers                                                 int64\n",
              "Lifetime Post Consumptions                                              int64\n",
              "Lifetime Post Impressions by people who have liked your Page            int64\n",
              "Lifetime Post reach by people who like your Page                        int64\n",
              "Lifetime People who have liked your Page and engaged with your post     int64\n",
              "Comments                                                                int64\n",
              "Likes                                                                   int64\n",
              "Shares                                                                  int64\n",
              "Total Interactions                                                      int64\n",
              "dtype: object"
            ]
          },
          "metadata": {},
          "execution_count": 111
        }
      ]
    },
    {
      "cell_type": "code",
      "source": [
        "#Multiple Boxplot on one figure\n",
        "#set Style\n",
        "\n",
        "sns.set(style='whitegrid')\n",
        "fig, ax = plt.subplots(figsize=(8,8))\n",
        "\n",
        "g = sns.boxplot(data=df, width=0.1)\n",
        "plt.xticks(rotation='vertical')\n",
        "\n",
        "\n",
        "plt.show()"
      ],
      "metadata": {
        "colab": {
          "base_uri": "https://localhost:8080/",
          "height": 876
        },
        "id": "-KYKHTHSfnh9",
        "outputId": "50000d94-6b0d-4c25-b90a-a531ba1aca86"
      },
      "execution_count": 112,
      "outputs": [
        {
          "output_type": "display_data",
          "data": {
            "text/plain": [
              "<Figure size 576x576 with 1 Axes>"
            ],
            "image/png": "[encoded data removed]"
          },
          "metadata": {}
        }
      ]
    },
    {
      "cell_type": "code",
      "source": [
        "Q1 = df.quantile(0.25)\n",
        "Q3 = df.quantile(0.75)\n",
        "IQR = Q3 - Q1\n",
        "print(IQR)\n",
        "\n",
        "#Here we will get IQR for each column."
      ],
      "metadata": {
        "colab": {
          "base_uri": "https://localhost:8080/"
        },
        "id": "oe8fXym0fu4z",
        "outputId": "9af94fc1-8c0d-427c-d266-266840f18a28"
      },
      "execution_count": 113,
      "outputs": [
        {
          "output_type": "stream",
          "name": "stdout",
          "text": [
            "Page total likes                                                       24069.0\n",
            "Category                                                                   2.0\n",
            "Post Month                                                                 6.0\n",
            "Post Weekday                                                               4.0\n",
            "Post Hour                                                                  8.0\n",
            "Paid                                                                       1.0\n",
            "Lifetime Post Total Reach                                               9917.0\n",
            "Lifetime Post Total Impressions                                        16705.0\n",
            "Lifetime Engaged Users                                                   663.0\n",
            "Lifetime Post Consumers                                                  634.0\n",
            "Lifetime Post Consumptions                                               966.5\n",
            "Lifetime Post Impressions by people who have liked your Page           11069.5\n",
            "Lifetime Post reach by people who like your Page                        5805.0\n",
            "Lifetime People who have liked your Page and engaged with your post      361.0\n",
            "Comments                                                                   6.0\n",
            "Likes                                                                    131.0\n",
            "Shares                                                                    22.5\n",
            "Total Interactions                                                       159.0\n",
            "dtype: float64\n"
          ]
        }
      ]
    },
    {
      "cell_type": "code",
      "source": [
        "#The below code will remove the outliers from the dataset.\n",
        "\n",
        "df_out = df[~((df < (Q1 - 1.5 * IQR)) |(df > (Q3 + 1.5 * IQR))).any(axis=1)]\n",
        "df_out.shape"
      ],
      "metadata": {
        "colab": {
          "base_uri": "https://localhost:8080/"
        },
        "id": "qoWQqiEsf5PA",
        "outputId": "3f3e886c-95e2-4a1e-aa20-2a6438f16fa1"
      },
      "execution_count": 114,
      "outputs": [
        {
          "output_type": "stream",
          "name": "stderr",
          "text": [
            "/usr/local/lib/python3.7/dist-packages/ipykernel_launcher.py:3: FutureWarning: Automatic reindexing on DataFrame vs Series comparisons is deprecated and will raise ValueError in a future version.  Do `left, right = left.align(right, axis=1, copy=False)` before e.g. `left == right`\n",
            "  This is separate from the ipykernel package so we can avoid doing imports until\n"
          ]
        },
        {
          "output_type": "execute_result",
          "data": {
            "text/plain": [
              "(344, 19)"
            ]
          },
          "metadata": {},
          "execution_count": 114
        }
      ]
    },
    {
      "cell_type": "code",
      "source": [
        "#Sum of count of NULL values/outliers in each column of the dataset:\n",
        "df.isnull().sum()"
      ],
      "metadata": {
        "colab": {
          "base_uri": "https://localhost:8080/"
        },
        "id": "x_xKGN0df77B",
        "outputId": "13a57113-c53a-4c41-fdd9-e250ff86715b"
      },
      "execution_count": 115,
      "outputs": [
        {
          "output_type": "execute_result",
          "data": {
            "text/plain": [
              "Page total likes                                                       0\n",
              "Type                                                                   0\n",
              "Category                                                               0\n",
              "Post Month                                                             0\n",
              "Post Weekday                                                           0\n",
              "Post Hour                                                              0\n",
              "Paid                                                                   0\n",
              "Lifetime Post Total Reach                                              0\n",
              "Lifetime Post Total Impressions                                        0\n",
              "Lifetime Engaged Users                                                 0\n",
              "Lifetime Post Consumers                                                0\n",
              "Lifetime Post Consumptions                                             0\n",
              "Lifetime Post Impressions by people who have liked your Page           0\n",
              "Lifetime Post reach by people who like your Page                       0\n",
              "Lifetime People who have liked your Page and engaged with your post    0\n",
              "Comments                                                               0\n",
              "Likes                                                                  0\n",
              "Shares                                                                 0\n",
              "Total Interactions                                                     0\n",
              "dtype: int64"
            ]
          },
          "metadata": {},
          "execution_count": 115
        }
      ]
    },
    {
      "cell_type": "code",
      "source": [
        "#Normalization\n",
        "\n",
        "cols_to_norm = ['Page total likes', 'Category', 'Post Month', 'Post Weekday', 'Post Hour', 'Paid', 'Lifetime Post Total Reach', 'Lifetime Post Total Impressions', 'Lifetime Engaged Users', 'Lifetime Post Consumers', 'Lifetime Post Consumptions', 'Lifetime Post Impressions by people who have liked your Page', 'Lifetime Post reach by people who like your Page', 'Lifetime People who have liked your Page and engaged with your post', 'Comments', 'Likes', 'Shares', 'Total Interactions']\n",
        "df[cols_to_norm] = df[cols_to_norm].apply(lambda x: (x - x.min()) / (x.max() - x.min()))\n",
        "print(df[cols_to_norm])"
      ],
      "metadata": {
        "colab": {
          "base_uri": "https://localhost:8080/"
        },
        "id": "rccZ_3jUf_wt",
        "outputId": "79dfbe22-3d1b-4fda-8df6-5fdaaa06b73f"
      },
      "execution_count": 116,
      "outputs": [
        {
          "output_type": "stream",
          "name": "stdout",
          "text": [
            "     Page total likes  Category  Post Month  Post Weekday  Post Hour  Paid  \\\n",
            "0            1.000000       0.5         1.0      0.500000   0.090909   0.0   \n",
            "1            1.000000       0.5         1.0      0.333333   0.409091   0.0   \n",
            "2            1.000000       1.0         1.0      0.333333   0.090909   0.0   \n",
            "3            1.000000       0.5         1.0      0.166667   0.409091   1.0   \n",
            "4            1.000000       0.5         1.0      0.166667   0.090909   0.0   \n",
            "..                ...       ...         ...           ...        ...   ...   \n",
            "494          0.064111       1.0         0.0      1.000000   0.409091   0.0   \n",
            "495          0.064111       1.0         0.0      1.000000   0.045455   0.0   \n",
            "496          0.000000       0.5         0.0      0.666667   0.318182   0.0   \n",
            "497          0.000000       0.0         0.0      0.666667   0.045455   0.0   \n",
            "498          0.000000       1.0         0.0      0.500000   0.454545   0.0   \n",
            "\n",
            "     Lifetime Post Total Reach  Lifetime Post Total Impressions  \\\n",
            "0                     0.013948                         0.004074   \n",
            "1                     0.056713                         0.016659   \n",
            "2                     0.012067                         0.003427   \n",
            "3                     0.276795                         0.078778   \n",
            "4                     0.038870                         0.011736   \n",
            "..                         ...                              ...   \n",
            "494                   0.028639                         0.007793   \n",
            "495                   0.024667                         0.006277   \n",
            "496                   0.017987                         0.005100   \n",
            "497                   0.019640                         0.005989   \n",
            "498                   0.021737                         0.006303   \n",
            "\n",
            "     Lifetime Engaged Users  Lifetime Post Consumers  \\\n",
            "0                  0.014769                 0.008835   \n",
            "1                  0.126540                 0.119445   \n",
            "2                  0.014681                 0.009188   \n",
            "3                  0.192432                 0.068999   \n",
            "4                  0.057852                 0.035427   \n",
            "..                      ...                      ...   \n",
            "494                0.069999                 0.065995   \n",
            "495                0.063270                 0.061755   \n",
            "496                0.046142                 0.044085   \n",
            "497                0.053832                 0.049739   \n",
            "498                0.053919                 0.049916   \n",
            "\n",
            "     Lifetime Post Consumptions  \\\n",
            "0                      0.007587   \n",
            "1                      0.084219   \n",
            "2                      0.007334   \n",
            "3                      0.056146   \n",
            "4                      0.028882   \n",
            "..                          ...   \n",
            "494                    0.050278   \n",
            "495                    0.049368   \n",
            "496                    0.034294   \n",
            "497                    0.039757   \n",
            "498                    0.041629   \n",
            "\n",
            "     Lifetime Post Impressions by people who have liked your Page  \\\n",
            "0                                             0.002268              \n",
            "1                                             0.010064              \n",
            "2                                             0.002028              \n",
            "3                                             0.054603              \n",
            "4                                             0.005113              \n",
            "..                                                 ...              \n",
            "494                                           0.004594              \n",
            "495                                           0.003778              \n",
            "496                                           0.003065              \n",
            "497                                           0.003771              \n",
            "498                                           0.003583              \n",
            "\n",
            "     Lifetime Post reach by people who like your Page  \\\n",
            "0                                            0.027411   \n",
            "1                                            0.114721   \n",
            "2                                            0.024736   \n",
            "3                                            0.621086   \n",
            "4                                            0.057868   \n",
            "..                                                ...   \n",
            "494                                          0.058454   \n",
            "495                                          0.051542   \n",
            "496                                          0.036470   \n",
            "497                                          0.042015   \n",
            "498                                          0.043264   \n",
            "\n",
            "     Lifetime People who have liked your Page and engaged with your post  \\\n",
            "0                                             0.025189                     \n",
            "1                                             0.251660                     \n",
            "2                                             0.028166                     \n",
            "3                                             0.315319                     \n",
            "4                                             0.088619                     \n",
            "..                                                 ...                     \n",
            "494                                           0.094573                     \n",
            "495                                           0.087703                     \n",
            "496                                           0.066865                     \n",
            "497                                           0.081063                     \n",
            "498                                           0.082665                     \n",
            "\n",
            "     Comments     Likes    Shares  Total Interactions  \n",
            "0    0.010753  0.015275  0.021519            0.015788  \n",
            "1    0.013441  0.025135  0.036709            0.025892  \n",
            "2    0.000000  0.012761  0.017722            0.012630  \n",
            "3    0.155914  0.303944  0.186076            0.280549  \n",
            "4    0.051075  0.062838  0.062025            0.062046  \n",
            "..        ...       ...       ...                 ...  \n",
            "494  0.026882  0.024169  0.051899            0.027787  \n",
            "495  0.013441  0.010247  0.032911            0.013262  \n",
            "496  0.000000  0.010247  0.027848            0.011841  \n",
            "497  0.010753  0.017981  0.022785            0.018156  \n",
            "498  0.018817  0.017595  0.048101            0.021471  \n",
            "\n",
            "[495 rows x 18 columns]\n"
          ]
        }
      ]
    },
    {
      "cell_type": "code",
      "source": [
        "df['Page total likes'] = df['Page total likes'].astype('int64')\n",
        "df['Category'] = df['Category'].astype('int64')\n",
        "df['Post Month'] = df['Post Month'].astype('int64')\n",
        "df['Post Weekday'] = df['Post Weekday'].astype('int64')\n",
        "df['Post Hour'] = df['Post Hour'].astype('int64')\n",
        "df['Paid'] = df['Paid'].astype('int64')\n",
        "df['Lifetime Post Total Reach'] = df['Lifetime Post Total Reach'].astype('int64')\n",
        "df['Lifetime Post Total Impressions'] = df['Lifetime Post Total Impressions'].astype('int64')\n",
        "df['Lifetime Engaged Users'] = df['Lifetime Engaged Users'].astype('int64')\n",
        "df['Lifetime Post Consumers'] = df['Lifetime Post Consumers'].astype('int64')\n",
        "df['Lifetime Post Consumptions'] = df['Lifetime Post Consumptions'].astype('int64')\n",
        "df['Lifetime Post Impressions by people who have liked your Page'] = df['Lifetime Post Impressions by people who have liked your Page'].astype('int64')\n",
        "df['Lifetime Post reach by people who like your Page'] = df['Lifetime Post reach by people who like your Page'].astype('int64')\n",
        "df['Lifetime People who have liked your Page and engaged with your post'] = df['Lifetime People who have liked your Page and engaged with your post'].astype('int64')\n",
        "df['Comments'] = df['Comments'].astype('int64')\n",
        "df['Likes'] = df['Likes'].astype('int64')\n",
        "df['Shares'] = df['Shares'].astype('int64')\n",
        "df['Total Interactions'] = df['Total Interactions'].astype('int64')"
      ],
      "metadata": {
        "id": "KvIge7IpcImI"
      },
      "execution_count": 117,
      "outputs": []
    },
    {
      "cell_type": "markdown",
      "source": [
        "METHOD 1: Logistic Regression with scikit-learn\n"
      ],
      "metadata": {
        "id": "29Iww4SbqkEJ"
      }
    },
    {
      "cell_type": "code",
      "source": [
        "#Dataset splited into features and target variable\n",
        "feature_cols = ['Category', 'Post Month', 'Post Weekday', \n",
        "'Post Hour','Comments', 'Likes', 'Shares']\n",
        "# Features\n",
        "X = df[feature_cols]\n",
        "# Target variable\n",
        "y = df.Paid"
      ],
      "metadata": {
        "id": "s0gp8f5fhVAX"
      },
      "execution_count": 118,
      "outputs": []
    },
    {
      "cell_type": "markdown",
      "source": [
        "Splitting Data - \n",
        "To understand model performance, dividing the dataset into a training set and a test set."
      ],
      "metadata": {
        "id": "jlRxJh1OlRyT"
      }
    },
    {
      "cell_type": "code",
      "source": [
        "#split the data qet into 75% training and 25% testing\n",
        "X_train, X_test, Y_train, Y_test = train_test_split(X, y, test_size = 0.25, random_state = 0)\n",
        "\n",
        "#scale the data (feature scaling)\n",
        "sc = StandardScaler()\n",
        "X_train = sc.fit_transform(X_train)\n",
        "X_test = sc.transform(X_test)\n",
        "\n",
        "#Using Logistic Regression Algorithm to the Training Set\n",
        "\n",
        "classifier = LogisticRegression(random_state = 0)\n",
        "classifier.fit(X_train, Y_train)"
      ],
      "metadata": {
        "colab": {
          "base_uri": "https://localhost:8080/"
        },
        "id": "4PEuhYmClKwM",
        "outputId": "f03d7391-3676-42e5-fa6d-16223b81f484"
      },
      "execution_count": 119,
      "outputs": [
        {
          "output_type": "execute_result",
          "data": {
            "text/plain": [
              "LogisticRegression(random_state=0)"
            ]
          },
          "metadata": {},
          "execution_count": 119
        }
      ]
    },
    {
      "cell_type": "markdown",
      "source": [
        "METHOD 2 - Decision Tree Classifier"
      ],
      "metadata": {
        "id": "Vx2vDISctMBF"
      }
    },
    {
      "cell_type": "code",
      "source": [
        "#Dataset splited into features and target variable\n",
        "feature_cols = ['Category', 'Post Month', 'Post Weekday', \n",
        "'Post Hour','Comments', 'Likes', 'Shares']\n",
        "# Features\n",
        "X = df[feature_cols]\n",
        "# Target variable\n",
        "y = df.Paid"
      ],
      "metadata": {
        "id": "mFY7ssyetK49"
      },
      "execution_count": 120,
      "outputs": []
    },
    {
      "cell_type": "markdown",
      "source": [
        "Splitting The Data"
      ],
      "metadata": {
        "id": "I5EyzT7ctl3k"
      }
    },
    {
      "cell_type": "code",
      "source": [
        "# Split dataset into training set and test set\n",
        "X_train, X_test, y_train, y_test = train_test_split(X, y, \n",
        "test_size=0.3, random_state=1)\n",
        "# 70% training and 30% test\n"
      ],
      "metadata": {
        "id": "FE2rDY8Etlo4"
      },
      "execution_count": 121,
      "outputs": []
    },
    {
      "cell_type": "markdown",
      "source": [
        " Building Decision Tree Model"
      ],
      "metadata": {
        "id": "wfm7RQAitvcq"
      }
    },
    {
      "cell_type": "code",
      "source": [
        "# Create Decision Tree classifer object\n",
        "clf = DecisionTreeClassifier()\n",
        "# Train Decision Tree Classifer\n",
        "clf = clf.fit(X_train,y_train)\n",
        "#Predict the response for test dataset\n",
        "y_pred = clf.predict(X_test)\n",
        "print(y_pred)\n"
      ],
      "metadata": {
        "colab": {
          "base_uri": "https://localhost:8080/"
        },
        "id": "FaybaHhitquc",
        "outputId": "939f28e4-f891-4418-b957-2e8b3bc99b26"
      },
      "execution_count": 122,
      "outputs": [
        {
          "output_type": "stream",
          "name": "stdout",
          "text": [
            "[0 0 0 0 0 0 0 0 0 0 0 0 0 0 0 0 0 0 0 0 0 0 0 0 0 0 0 0 0 0 0 0 0 0 0 0 0\n",
            " 0 0 0 0 0 0 0 0 0 0 0 0 0 0 0 0 0 0 0 0 0 0 0 0 0 0 0 0 0 0 0 0 0 0 0 0 0\n",
            " 0 0 0 0 0 0 0 0 0 0 0 0 0 0 0 0 0 0 0 0 0 0 0 0 0 0 0 0 0 0 0 0 0 0 0 0 0\n",
            " 0 0 0 0 0 0 0 0 0 0 0 0 0 0 0 0 0 0 0 0 0 0 0 0 0 0 0 0 0 0 0 0 0 0 1 0 0\n",
            " 0]\n"
          ]
        }
      ]
    },
    {
      "cell_type": "code",
      "source": [
        "# Model Accuracy, how often is the classifier correct?\n",
        "print(\"Accuracy:\",metrics.accuracy_score(y_test, y_pred))"
      ],
      "metadata": {
        "colab": {
          "base_uri": "https://localhost:8080/"
        },
        "id": "xZTjgokr0gGH",
        "outputId": "f316c1cf-e02c-4134-c890-c368c4ca3ed3"
      },
      "execution_count": 124,
      "outputs": [
        {
          "output_type": "stream",
          "name": "stdout",
          "text": [
            "Accuracy: 0.6912751677852349\n"
          ]
        }
      ]
    },
    {
      "cell_type": "markdown",
      "source": [
        "# Build the kNN classifier "
      ],
      "metadata": {
        "id": "3XHT8LgSEMu_"
      }
    },
    {
      "cell_type": "code",
      "source": [
        "knn = KNeighborsClassifier() #create a dictionary of all values we want to test for n_neighbors\n",
        "params_knn = {'n_neighbors': np.arange(1, 100)} #use gridsearch to test all values for n_neighbors\n",
        "knn_gs = GridSearchCV(knn, params_knn, cv=10) #fit model to training data\n",
        "knn_gs.fit(X_train, y_train)"
      ],
      "metadata": {
        "colab": {
          "base_uri": "https://localhost:8080/"
        },
        "id": "3M4a5LlWlwmt",
        "outputId": "299300f2-ac78-4500-9681-df2e8972eac9"
      },
      "execution_count": 125,
      "outputs": [
        {
          "output_type": "execute_result",
          "data": {
            "text/plain": [
              "GridSearchCV(cv=10, estimator=KNeighborsClassifier(),\n",
              "             param_grid={'n_neighbors': array([ 1,  2,  3,  4,  5,  6,  7,  8,  9, 10, 11, 12, 13, 14, 15, 16, 17,\n",
              "       18, 19, 20, 21, 22, 23, 24, 25, 26, 27, 28, 29, 30, 31, 32, 33, 34,\n",
              "       35, 36, 37, 38, 39, 40, 41, 42, 43, 44, 45, 46, 47, 48, 49, 50, 51,\n",
              "       52, 53, 54, 55, 56, 57, 58, 59, 60, 61, 62, 63, 64, 65, 66, 67, 68,\n",
              "       69, 70, 71, 72, 73, 74, 75, 76, 77, 78, 79, 80, 81, 82, 83, 84, 85,\n",
              "       86, 87, 88, 89, 90, 91, 92, 93, 94, 95, 96, 97, 98, 99])})"
            ]
          },
          "metadata": {},
          "execution_count": 125
        }
      ]
    },
    {
      "cell_type": "code",
      "source": [
        "#save best model\n",
        "knn_best = knn_gs.best_estimator_\n",
        "#check best n_neigbors value\n",
        "print(knn_gs.best_params_)"
      ],
      "metadata": {
        "colab": {
          "base_uri": "https://localhost:8080/"
        },
        "id": "WN4CCorwmEcf",
        "outputId": "5d96061a-bc74-4ad2-86ed-5d7aeae2e62e"
      },
      "execution_count": 126,
      "outputs": [
        {
          "output_type": "stream",
          "name": "stdout",
          "text": [
            "{'n_neighbors': 14}\n"
          ]
        }
      ]
    },
    {
      "cell_type": "code",
      "source": [
        "rf = RandomForestClassifier()\n",
        "#create a dictionary of all values we want to test for n_estimators\n",
        "params_rf = {'n_estimators': [50, 100, 200]}\n",
        "#use gridsearch to test all values for n_estimators\n",
        "rf_gs = GridSearchCV(rf, params_rf, cv=5)#fit model to training data\n",
        "rf_gs.fit(X_train, y_train)\n",
        "\n",
        "\n"
      ],
      "metadata": {
        "colab": {
          "base_uri": "https://localhost:8080/"
        },
        "id": "crHt121hK2j8",
        "outputId": "a0b3c8ae-a049-4bc6-d9ec-e765510cba32"
      },
      "execution_count": 127,
      "outputs": [
        {
          "output_type": "execute_result",
          "data": {
            "text/plain": [
              "GridSearchCV(cv=5, estimator=RandomForestClassifier(),\n",
              "             param_grid={'n_estimators': [50, 100, 200]})"
            ]
          },
          "metadata": {},
          "execution_count": 127
        }
      ]
    },
    {
      "cell_type": "code",
      "source": [
        "#save best model\n",
        "rf_best = rf_gs.best_estimator_\n",
        "#check best n_estimators value\n",
        "print(rf_gs.best_params_)\n",
        "\n"
      ],
      "metadata": {
        "colab": {
          "base_uri": "https://localhost:8080/"
        },
        "id": "vHKVFv-7ZIEj",
        "outputId": "3ca51eb3-1b12-481a-9864-9f0a616221c7"
      },
      "execution_count": 128,
      "outputs": [
        {
          "output_type": "stream",
          "name": "stdout",
          "text": [
            "{'n_estimators': 50}\n"
          ]
        }
      ]
    },
    {
      "cell_type": "code",
      "source": [
        "log_reg = LogisticRegression()#fit the model to the training data\n",
        "log_reg.fit(X_train, y_train)"
      ],
      "metadata": {
        "colab": {
          "base_uri": "https://localhost:8080/"
        },
        "id": "bD1CVgQBLbAt",
        "outputId": "87a90467-4b93-494e-d7d7-1801d3a70346"
      },
      "execution_count": 129,
      "outputs": [
        {
          "output_type": "execute_result",
          "data": {
            "text/plain": [
              "LogisticRegression()"
            ]
          },
          "metadata": {},
          "execution_count": 129
        }
      ]
    },
    {
      "cell_type": "code",
      "source": [
        "svclassifier = SVC(kernel='poly', degree=8)\n",
        "svclassifier.fit(X_train, y_train)\n",
        "y_pred = svclassifier.predict(X_test)"
      ],
      "metadata": {
        "id": "CobAqtjgnJlR"
      },
      "execution_count": 133,
      "outputs": []
    },
    {
      "cell_type": "code",
      "source": [
        "print(confusion_matrix(y_test, y_pred))\n",
        "print(classification_report(y_test, y_pred))"
      ],
      "metadata": {
        "colab": {
          "base_uri": "https://localhost:8080/"
        },
        "id": "MnAAXuZbneVI",
        "outputId": "3268c1ec-4980-45f6-c417-104ac17e069a"
      },
      "execution_count": 135,
      "outputs": [
        {
          "output_type": "stream",
          "name": "stdout",
          "text": [
            "[[103   1]\n",
            " [ 45   0]]\n",
            "              precision    recall  f1-score   support\n",
            "\n",
            "           0       0.70      0.99      0.82       104\n",
            "           1       0.00      0.00      0.00        45\n",
            "\n",
            "    accuracy                           0.69       149\n",
            "   macro avg       0.35      0.50      0.41       149\n",
            "weighted avg       0.49      0.69      0.57       149\n",
            "\n"
          ]
        }
      ]
    },
    {
      "cell_type": "code",
      "source": [
        "print('knn: {}'.format(knn_best.score(X_test, y_test)))\n",
        "print('rf: {}'.format(rf_best.score(X_test, y_test)))\n",
        "print('log_reg: {}'.format(log_reg.score(X_test, y_test)))\n",
        "print('svclassifier: {}'.format(svclassifier.score(X_test, y_test)))"
      ],
      "metadata": {
        "colab": {
          "base_uri": "https://localhost:8080/"
        },
        "id": "6B1zEdS7tn6h",
        "outputId": "c805a872-a1d2-4631-f32f-08364e6277c6"
      },
      "execution_count": 134,
      "outputs": [
        {
          "output_type": "stream",
          "name": "stdout",
          "text": [
            "knn: 0.697986577181208\n",
            "rf: 0.6912751677852349\n",
            "log_reg: 0.697986577181208\n",
            "svclassifier: 0.6912751677852349\n"
          ]
        }
      ]
    },
    {
      "cell_type": "markdown",
      "source": [
        "Voting Classifier - Now that we’ve built our three individual models, it’s time we built our voting classifier.Here is the code:"
      ],
      "metadata": {
        "id": "FWhXVorruNaQ"
      }
    },
    {
      "cell_type": "code",
      "source": [
        "#create a dictionary of our models\n",
        "estimators=[('knn', knn_best), ('rf', rf_best), ('log_reg', log_reg)]\n",
        "#create our voting classifier, inputting our models\n",
        "ensemble = VotingClassifier(estimators, voting='hard')\n",
        "#fit model to training data\n",
        "ensemble.fit(X_train, y_train)\n",
        "#test our model on the test data\n",
        "ensemble.score(X_test, y_test)"
      ],
      "metadata": {
        "colab": {
          "base_uri": "https://localhost:8080/"
        },
        "id": "naAD1mD6uIHa",
        "outputId": "7265ac5c-dec1-459d-a510-3e08ef7cb9fc"
      },
      "execution_count": 136,
      "outputs": [
        {
          "output_type": "execute_result",
          "data": {
            "text/plain": [
              "0.697986577181208"
            ]
          },
          "metadata": {},
          "execution_count": 136
        }
      ]
    },
    {
      "cell_type": "markdown",
      "source": [
        "Grid Search\n",
        "Now we will tune the parameters, check for the improvement"
      ],
      "metadata": {
        "id": "kCD2NXy1v1fI"
      }
    },
    {
      "cell_type": "code",
      "source": [
        "param_grid = {'C':[0.1,1,10,100], 'gamma':[1,0.1,0.01,0.001]}\n",
        "grid = GridSearchCV(SVC(), param_grid, refit = True, verbose=3)\n",
        "grid.fit(X_train, y_train)\n",
        "pred_grid = grid.predict(X_test)"
      ],
      "metadata": {
        "colab": {
          "base_uri": "https://localhost:8080/"
        },
        "id": "doEJ069Dv2h0",
        "outputId": "c20c49fa-eab1-4808-88ec-cae458164ee0"
      },
      "execution_count": 138,
      "outputs": [
        {
          "output_type": "stream",
          "name": "stdout",
          "text": [
            "Fitting 5 folds for each of 16 candidates, totalling 80 fits\n",
            "[CV 1/5] END ....................C=0.1, gamma=1;, score=0.729 total time=   0.0s\n",
            "[CV 2/5] END ....................C=0.1, gamma=1;, score=0.739 total time=   0.0s\n",
            "[CV 3/5] END ....................C=0.1, gamma=1;, score=0.725 total time=   0.0s\n",
            "[CV 4/5] END ....................C=0.1, gamma=1;, score=0.725 total time=   0.0s\n",
            "[CV 5/5] END ....................C=0.1, gamma=1;, score=0.725 total time=   0.0s\n",
            "[CV 1/5] END ..................C=0.1, gamma=0.1;, score=0.729 total time=   0.0s\n",
            "[CV 2/5] END ..................C=0.1, gamma=0.1;, score=0.739 total time=   0.0s\n",
            "[CV 3/5] END ..................C=0.1, gamma=0.1;, score=0.725 total time=   0.0s\n",
            "[CV 4/5] END ..................C=0.1, gamma=0.1;, score=0.725 total time=   0.0s\n",
            "[CV 5/5] END ..................C=0.1, gamma=0.1;, score=0.725 total time=   0.0s\n",
            "[CV 1/5] END .................C=0.1, gamma=0.01;, score=0.729 total time=   0.0s\n",
            "[CV 2/5] END .................C=0.1, gamma=0.01;, score=0.739 total time=   0.0s\n",
            "[CV 3/5] END .................C=0.1, gamma=0.01;, score=0.725 total time=   0.0s\n",
            "[CV 4/5] END .................C=0.1, gamma=0.01;, score=0.725 total time=   0.0s\n",
            "[CV 5/5] END .................C=0.1, gamma=0.01;, score=0.725 total time=   0.0s\n",
            "[CV 1/5] END ................C=0.1, gamma=0.001;, score=0.729 total time=   0.0s\n",
            "[CV 2/5] END ................C=0.1, gamma=0.001;, score=0.739 total time=   0.0s\n",
            "[CV 3/5] END ................C=0.1, gamma=0.001;, score=0.725 total time=   0.0s\n",
            "[CV 4/5] END ................C=0.1, gamma=0.001;, score=0.725 total time=   0.0s\n",
            "[CV 5/5] END ................C=0.1, gamma=0.001;, score=0.725 total time=   0.0s\n",
            "[CV 1/5] END ......................C=1, gamma=1;, score=0.729 total time=   0.0s\n",
            "[CV 2/5] END ......................C=1, gamma=1;, score=0.739 total time=   0.0s\n",
            "[CV 3/5] END ......................C=1, gamma=1;, score=0.725 total time=   0.0s\n",
            "[CV 4/5] END ......................C=1, gamma=1;, score=0.725 total time=   0.0s\n",
            "[CV 5/5] END ......................C=1, gamma=1;, score=0.725 total time=   0.0s\n",
            "[CV 1/5] END ....................C=1, gamma=0.1;, score=0.729 total time=   0.0s\n",
            "[CV 2/5] END ....................C=1, gamma=0.1;, score=0.739 total time=   0.0s\n",
            "[CV 3/5] END ....................C=1, gamma=0.1;, score=0.725 total time=   0.0s\n",
            "[CV 4/5] END ....................C=1, gamma=0.1;, score=0.725 total time=   0.0s\n",
            "[CV 5/5] END ....................C=1, gamma=0.1;, score=0.725 total time=   0.0s\n",
            "[CV 1/5] END ...................C=1, gamma=0.01;, score=0.729 total time=   0.0s\n",
            "[CV 2/5] END ...................C=1, gamma=0.01;, score=0.739 total time=   0.0s\n",
            "[CV 3/5] END ...................C=1, gamma=0.01;, score=0.725 total time=   0.0s\n",
            "[CV 4/5] END ...................C=1, gamma=0.01;, score=0.725 total time=   0.0s\n",
            "[CV 5/5] END ...................C=1, gamma=0.01;, score=0.725 total time=   0.0s\n",
            "[CV 1/5] END ..................C=1, gamma=0.001;, score=0.729 total time=   0.0s\n",
            "[CV 2/5] END ..................C=1, gamma=0.001;, score=0.739 total time=   0.1s\n",
            "[CV 3/5] END ..................C=1, gamma=0.001;, score=0.725 total time=   0.0s\n",
            "[CV 4/5] END ..................C=1, gamma=0.001;, score=0.725 total time=   0.1s\n",
            "[CV 5/5] END ..................C=1, gamma=0.001;, score=0.725 total time=   0.0s\n",
            "[CV 1/5] END .....................C=10, gamma=1;, score=0.729 total time=   0.0s\n",
            "[CV 2/5] END .....................C=10, gamma=1;, score=0.739 total time=   0.0s\n",
            "[CV 3/5] END .....................C=10, gamma=1;, score=0.725 total time=   0.0s\n",
            "[CV 4/5] END .....................C=10, gamma=1;, score=0.725 total time=   0.0s\n",
            "[CV 5/5] END .....................C=10, gamma=1;, score=0.725 total time=   0.0s\n",
            "[CV 1/5] END ...................C=10, gamma=0.1;, score=0.729 total time=   0.0s\n",
            "[CV 2/5] END ...................C=10, gamma=0.1;, score=0.739 total time=   0.0s\n",
            "[CV 3/5] END ...................C=10, gamma=0.1;, score=0.725 total time=   0.0s\n",
            "[CV 4/5] END ...................C=10, gamma=0.1;, score=0.725 total time=   0.0s\n",
            "[CV 5/5] END ...................C=10, gamma=0.1;, score=0.725 total time=   0.0s\n",
            "[CV 1/5] END ..................C=10, gamma=0.01;, score=0.729 total time=   0.0s\n",
            "[CV 2/5] END ..................C=10, gamma=0.01;, score=0.739 total time=   0.0s\n",
            "[CV 3/5] END ..................C=10, gamma=0.01;, score=0.725 total time=   0.0s\n",
            "[CV 4/5] END ..................C=10, gamma=0.01;, score=0.725 total time=   0.0s\n",
            "[CV 5/5] END ..................C=10, gamma=0.01;, score=0.725 total time=   0.0s\n",
            "[CV 1/5] END .................C=10, gamma=0.001;, score=0.729 total time=   0.0s\n",
            "[CV 2/5] END .................C=10, gamma=0.001;, score=0.739 total time=   0.0s\n",
            "[CV 3/5] END .................C=10, gamma=0.001;, score=0.725 total time=   0.0s\n",
            "[CV 4/5] END .................C=10, gamma=0.001;, score=0.725 total time=   0.0s\n",
            "[CV 5/5] END .................C=10, gamma=0.001;, score=0.725 total time=   0.0s\n",
            "[CV 1/5] END ....................C=100, gamma=1;, score=0.729 total time=   0.0s\n",
            "[CV 2/5] END ....................C=100, gamma=1;, score=0.739 total time=   0.0s\n",
            "[CV 3/5] END ....................C=100, gamma=1;, score=0.725 total time=   0.0s\n",
            "[CV 4/5] END ....................C=100, gamma=1;, score=0.725 total time=   0.0s\n",
            "[CV 5/5] END ....................C=100, gamma=1;, score=0.725 total time=   0.0s\n",
            "[CV 1/5] END ..................C=100, gamma=0.1;, score=0.729 total time=   0.0s\n",
            "[CV 2/5] END ..................C=100, gamma=0.1;, score=0.739 total time=   0.0s\n",
            "[CV 3/5] END ..................C=100, gamma=0.1;, score=0.725 total time=   0.0s\n",
            "[CV 4/5] END ..................C=100, gamma=0.1;, score=0.725 total time=   0.0s\n",
            "[CV 5/5] END ..................C=100, gamma=0.1;, score=0.725 total time=   0.0s\n",
            "[CV 1/5] END .................C=100, gamma=0.01;, score=0.729 total time=   0.0s\n",
            "[CV 2/5] END .................C=100, gamma=0.01;, score=0.739 total time=   0.0s\n",
            "[CV 3/5] END .................C=100, gamma=0.01;, score=0.725 total time=   0.0s\n",
            "[CV 4/5] END .................C=100, gamma=0.01;, score=0.725 total time=   0.0s\n",
            "[CV 5/5] END .................C=100, gamma=0.01;, score=0.725 total time=   0.0s\n",
            "[CV 1/5] END ................C=100, gamma=0.001;, score=0.729 total time=   0.0s\n",
            "[CV 2/5] END ................C=100, gamma=0.001;, score=0.739 total time=   0.0s\n",
            "[CV 3/5] END ................C=100, gamma=0.001;, score=0.725 total time=   0.0s\n",
            "[CV 4/5] END ................C=100, gamma=0.001;, score=0.725 total time=   0.0s\n",
            "[CV 5/5] END ................C=100, gamma=0.001;, score=0.725 total time=   0.0s\n"
          ]
        }
      ]
    },
    {
      "cell_type": "code",
      "source": [
        "print(confusion_matrix(y_test, pred_grid))"
      ],
      "metadata": {
        "colab": {
          "base_uri": "https://localhost:8080/"
        },
        "id": "xIMn2R47yo4a",
        "outputId": "f8db219a-417b-489b-c465-b11b2c1d681c"
      },
      "execution_count": 139,
      "outputs": [
        {
          "output_type": "stream",
          "name": "stdout",
          "text": [
            "[[104   0]\n",
            " [ 45   0]]\n"
          ]
        }
      ]
    },
    {
      "cell_type": "code",
      "source": [
        "print(classification_report(y_test, pred_grid))\n"
      ],
      "metadata": {
        "colab": {
          "base_uri": "https://localhost:8080/"
        },
        "id": "LlOPqQW5yuzY",
        "outputId": "4f4ab995-bfd6-4a16-991b-c2d9ff34dbc7"
      },
      "execution_count": 140,
      "outputs": [
        {
          "output_type": "stream",
          "name": "stdout",
          "text": [
            "              precision    recall  f1-score   support\n",
            "\n",
            "           0       0.70      1.00      0.82       104\n",
            "           1       0.00      0.00      0.00        45\n",
            "\n",
            "    accuracy                           0.70       149\n",
            "   macro avg       0.35      0.50      0.41       149\n",
            "weighted avg       0.49      0.70      0.57       149\n",
            "\n"
          ]
        },
        {
          "output_type": "stream",
          "name": "stderr",
          "text": [
            "/usr/local/lib/python3.7/dist-packages/sklearn/metrics/_classification.py:1318: UndefinedMetricWarning: Precision and F-score are ill-defined and being set to 0.0 in labels with no predicted samples. Use `zero_division` parameter to control this behavior.\n",
            "  _warn_prf(average, modifier, msg_start, len(result))\n",
            "/usr/local/lib/python3.7/dist-packages/sklearn/metrics/_classification.py:1318: UndefinedMetricWarning: Precision and F-score are ill-defined and being set to 0.0 in labels with no predicted samples. Use `zero_division` parameter to control this behavior.\n",
            "  _warn_prf(average, modifier, msg_start, len(result))\n",
            "/usr/local/lib/python3.7/dist-packages/sklearn/metrics/_classification.py:1318: UndefinedMetricWarning: Precision and F-score are ill-defined and being set to 0.0 in labels with no predicted samples. Use `zero_division` parameter to control this behavior.\n",
            "  _warn_prf(average, modifier, msg_start, len(result))\n"
          ]
        }
      ]
    },
    {
      "cell_type": "markdown",
      "source": [
        "The seven metrics \n",
        "are as below:\n",
        "1. Accuracy score\n",
        "2. Confusion matrix\n",
        "3. Precision\n",
        "4. Recall\n",
        "5. F1 Score\n",
        "6. ROC Curve\n",
        "7. AUROC"
      ],
      "metadata": {
        "id": "b38lc7Zn_oUP"
      }
    },
    {
      "cell_type": "code",
      "source": [
        "from sklearn.linear_model import SGDClassifier\n",
        "knn_model = KNeighborsClassifier(n_neighbors=14)\n",
        "knn_model.fit(X_train, y_train)\n",
        "sgd_model = SGDClassifier(random_state=45)\n",
        "sgd_model.fit(X_train, y_train)\n",
        "log_model = LogisticRegression()\n",
        "log_model.fit(X_train, y_train)\n",
        "rf_model = RandomForestClassifier()\n",
        "rf_model.fit(X_train, y_train)\n"
      ],
      "metadata": {
        "colab": {
          "base_uri": "https://localhost:8080/"
        },
        "id": "EvTYXsh7BPe3",
        "outputId": "b61051dd-b107-4b20-b339-1de7c14af6c0"
      },
      "execution_count": 152,
      "outputs": [
        {
          "output_type": "execute_result",
          "data": {
            "text/plain": [
              "RandomForestClassifier()"
            ]
          },
          "metadata": {},
          "execution_count": 152
        }
      ]
    },
    {
      "cell_type": "code",
      "source": [
        "y_pred_knn = knn_model.predict(X_test)\n",
        "y_pred_sgd = sgd_model.predict(X_test)\n",
        "y_pred_log = log_model.predict(X_test)\n",
        "y_pred_rf = rf_model.predict(X_test)"
      ],
      "metadata": {
        "id": "uXiYg86wEVhX"
      },
      "execution_count": 153,
      "outputs": []
    },
    {
      "cell_type": "code",
      "source": [
        "#Accuracy Score\n",
        "knn_score = accuracy_score(y_test, y_pred_knn)\n",
        "sgd_score = accuracy_score(y_test, y_pred_sgd)\n",
        "log_score = accuracy_score(y_test, y_pred_log)\n",
        "rf_score = accuracy_score(y_test, y_pred_rf)\n",
        "print(\"Accuracy score (KNN): \", knn_score)\n",
        "print(\"Accuracy score (SGD): \", sgd_score)\n",
        "print(\"Accuracy score (Logistic): \", log_score)\n",
        "print(\"Accuracy score (RF): \", rf_score)\n"
      ],
      "metadata": {
        "colab": {
          "base_uri": "https://localhost:8080/"
        },
        "id": "YYQyA7IJ_py9",
        "outputId": "cbe2fb73-20e7-4709-bf7d-b49cec0ad17e"
      },
      "execution_count": 155,
      "outputs": [
        {
          "output_type": "stream",
          "name": "stdout",
          "text": [
            "Accuracy score (KNN):  0.697986577181208\n",
            "Accuracy score (SGD):  0.6577181208053692\n",
            "Accuracy score (Logistic):  0.697986577181208\n",
            "Accuracy score (RF):  0.6912751677852349\n"
          ]
        }
      ]
    },
    {
      "cell_type": "code",
      "source": [
        "#Confusion matrix\n",
        "cm1 = confusion_matrix(y_test, y_pred_knn)\n",
        "cm2 = confusion_matrix(y_test, y_pred_sgd)\n",
        "cm3 = confusion_matrix(y_test, y_pred_log)\n",
        "cm4 = confusion_matrix(y_test, y_pred_rf)\n",
        "print(cm1)\n",
        "print(cm2)\n",
        "print(cm3)\n",
        "print(cm4)\n"
      ],
      "metadata": {
        "colab": {
          "base_uri": "https://localhost:8080/"
        },
        "id": "uKy8xkIJIbM9",
        "outputId": "17bca1eb-d8e6-4945-b00e-cb8acda46eec"
      },
      "execution_count": 156,
      "outputs": [
        {
          "output_type": "stream",
          "name": "stdout",
          "text": [
            "[[104   0]\n",
            " [ 45   0]]\n",
            "[[95  9]\n",
            " [42  3]]\n",
            "[[104   0]\n",
            " [ 45   0]]\n",
            "[[103   1]\n",
            " [ 45   0]]\n"
          ]
        }
      ]
    },
    {
      "cell_type": "code",
      "source": [
        " #Precision, Recall and F1 Score\n",
        "\n",
        "print(classification_report(y_test, y_pred_knn)) # knn classification report\n",
        "print(classification_report(y_test, y_pred_sgd)) # sgd classification report\n",
        "print(classification_report(y_test, y_pred_log)) # logistic classification report\n",
        "print(classification_report(y_test, y_pred_rf)) # Random Forest report"
      ],
      "metadata": {
        "colab": {
          "base_uri": "https://localhost:8080/"
        },
        "id": "gWuHlAkMIv_o",
        "outputId": "f0ef9966-9a0a-4e3f-bfb8-481629e0b386"
      },
      "execution_count": 161,
      "outputs": [
        {
          "output_type": "stream",
          "name": "stdout",
          "text": [
            "              precision    recall  f1-score   support\n",
            "\n",
            "           0       0.70      1.00      0.82       104\n",
            "           1       0.00      0.00      0.00        45\n",
            "\n",
            "    accuracy                           0.70       149\n",
            "   macro avg       0.35      0.50      0.41       149\n",
            "weighted avg       0.49      0.70      0.57       149\n",
            "\n",
            "              precision    recall  f1-score   support\n",
            "\n",
            "           0       0.69      0.91      0.79       104\n",
            "           1       0.25      0.07      0.11        45\n",
            "\n",
            "    accuracy                           0.66       149\n",
            "   macro avg       0.47      0.49      0.45       149\n",
            "weighted avg       0.56      0.66      0.58       149\n",
            "\n",
            "              precision    recall  f1-score   support\n",
            "\n",
            "           0       0.70      1.00      0.82       104\n",
            "           1       0.00      0.00      0.00        45\n",
            "\n",
            "    accuracy                           0.70       149\n",
            "   macro avg       0.35      0.50      0.41       149\n",
            "weighted avg       0.49      0.70      0.57       149\n",
            "\n",
            "              precision    recall  f1-score   support\n",
            "\n",
            "           0       0.70      0.99      0.82       104\n",
            "           1       0.00      0.00      0.00        45\n",
            "\n",
            "    accuracy                           0.69       149\n",
            "   macro avg       0.35      0.50      0.41       149\n",
            "weighted avg       0.49      0.69      0.57       149\n",
            "\n"
          ]
        },
        {
          "output_type": "stream",
          "name": "stderr",
          "text": [
            "/usr/local/lib/python3.7/dist-packages/sklearn/metrics/_classification.py:1318: UndefinedMetricWarning: Precision and F-score are ill-defined and being set to 0.0 in labels with no predicted samples. Use `zero_division` parameter to control this behavior.\n",
            "  _warn_prf(average, modifier, msg_start, len(result))\n",
            "/usr/local/lib/python3.7/dist-packages/sklearn/metrics/_classification.py:1318: UndefinedMetricWarning: Precision and F-score are ill-defined and being set to 0.0 in labels with no predicted samples. Use `zero_division` parameter to control this behavior.\n",
            "  _warn_prf(average, modifier, msg_start, len(result))\n",
            "/usr/local/lib/python3.7/dist-packages/sklearn/metrics/_classification.py:1318: UndefinedMetricWarning: Precision and F-score are ill-defined and being set to 0.0 in labels with no predicted samples. Use `zero_division` parameter to control this behavior.\n",
            "  _warn_prf(average, modifier, msg_start, len(result))\n",
            "/usr/local/lib/python3.7/dist-packages/sklearn/metrics/_classification.py:1318: UndefinedMetricWarning: Precision and F-score are ill-defined and being set to 0.0 in labels with no predicted samples. Use `zero_division` parameter to control this behavior.\n",
            "  _warn_prf(average, modifier, msg_start, len(result))\n",
            "/usr/local/lib/python3.7/dist-packages/sklearn/metrics/_classification.py:1318: UndefinedMetricWarning: Precision and F-score are ill-defined and being set to 0.0 in labels with no predicted samples. Use `zero_division` parameter to control this behavior.\n",
            "  _warn_prf(average, modifier, msg_start, len(result))\n",
            "/usr/local/lib/python3.7/dist-packages/sklearn/metrics/_classification.py:1318: UndefinedMetricWarning: Precision and F-score are ill-defined and being set to 0.0 in labels with no predicted samples. Use `zero_division` parameter to control this behavior.\n",
            "  _warn_prf(average, modifier, msg_start, len(result))\n"
          ]
        }
      ]
    },
    {
      "cell_type": "code",
      "source": [
        " #ROC Curve and AUROC\n",
        "\n",
        "plot_roc_curve(knn_model, X_test, y_test)\n",
        "plt.savefig('ROC_Curve_KNN.png', dpi=1050)\n",
        "plt.show()\n",
        "plot_roc_curve(sgd_model, X_test, y_test)\n",
        "plt.savefig('ROC_Curve_SGD.png', dpi=1050)\n",
        "plt.show()\n",
        "plot_roc_curve(log_model, X_test, y_test)\n",
        "plt.savefig('ROC_Curve_LOG.png', dpi=1050)\n",
        "plt.show()\n",
        "plot_roc_curve(rf_model, X_test, y_test)\n",
        "plt.savefig('ROC_Curve_RF.png', dpi=1050)\n",
        "plt.show()\n",
        "\n"
      ],
      "metadata": {
        "colab": {
          "base_uri": "https://localhost:8080/",
          "height": 1000
        },
        "id": "JpsDBSbhLqb_",
        "outputId": "b597306a-def3-4f52-d720-371e67801d9b"
      },
      "execution_count": 164,
      "outputs": [
        {
          "output_type": "stream",
          "name": "stderr",
          "text": [
            "/usr/local/lib/python3.7/dist-packages/sklearn/utils/deprecation.py:87: FutureWarning: Function plot_roc_curve is deprecated; Function :func:`plot_roc_curve` is deprecated in 1.0 and will be removed in 1.2. Use one of the class methods: :meth:`sklearn.metric.RocCurveDisplay.from_predictions` or :meth:`sklearn.metric.RocCurveDisplay.from_estimator`.\n",
            "  warnings.warn(msg, category=FutureWarning)\n"
          ]
        },
        {
          "output_type": "display_data",
          "data": {
            "text/plain": [
              "<Figure size 432x288 with 1 Axes>"
            ],
            "image/png": "[encoded data removed]"
          },
          "metadata": {}
        },
        {
          "output_type": "stream",
          "name": "stderr",
          "text": [
            "/usr/local/lib/python3.7/dist-packages/sklearn/utils/deprecation.py:87: FutureWarning: Function plot_roc_curve is deprecated; Function :func:`plot_roc_curve` is deprecated in 1.0 and will be removed in 1.2. Use one of the class methods: :meth:`sklearn.metric.RocCurveDisplay.from_predictions` or :meth:`sklearn.metric.RocCurveDisplay.from_estimator`.\n",
            "  warnings.warn(msg, category=FutureWarning)\n"
          ]
        },
        {
          "output_type": "display_data",
          "data": {
            "text/plain": [
              "<Figure size 432x288 with 1 Axes>"
            ],
            "image/png": "[encoded data removed]"
          },
          "metadata": {}
        },
        {
          "output_type": "stream",
          "name": "stderr",
          "text": [
            "/usr/local/lib/python3.7/dist-packages/sklearn/utils/deprecation.py:87: FutureWarning: Function plot_roc_curve is deprecated; Function :func:`plot_roc_curve` is deprecated in 1.0 and will be removed in 1.2. Use one of the class methods: :meth:`sklearn.metric.RocCurveDisplay.from_predictions` or :meth:`sklearn.metric.RocCurveDisplay.from_estimator`.\n",
            "  warnings.warn(msg, category=FutureWarning)\n"
          ]
        },
        {
          "output_type": "display_data",
          "data": {
            "text/plain": [
              "<Figure size 432x288 with 1 Axes>"
            ],
            "image/png": "[encoded data removed]"
          },
          "metadata": {}
        },
        {
          "output_type": "stream",
          "name": "stderr",
          "text": [
            "/usr/local/lib/python3.7/dist-packages/sklearn/utils/deprecation.py:87: FutureWarning: Function plot_roc_curve is deprecated; Function :func:`plot_roc_curve` is deprecated in 1.0 and will be removed in 1.2. Use one of the class methods: :meth:`sklearn.metric.RocCurveDisplay.from_predictions` or :meth:`sklearn.metric.RocCurveDisplay.from_estimator`.\n",
            "  warnings.warn(msg, category=FutureWarning)\n"
          ]
        },
        {
          "output_type": "display_data",
          "data": {
            "text/plain": [
              "<Figure size 432x288 with 1 Axes>"
            ],
            "image/png": "[encoded data removed]"
          },
          "metadata": {}
        }
      ]
    }
  ]
}